{
  "nbformat": 4,
  "nbformat_minor": 0,
  "metadata": {
    "colab": {
      "provenance": []
    },
    "kernelspec": {
      "name": "python3",
      "display_name": "Python 3"
    },
    "language_info": {
      "name": "python"
    }
  },
  "cells": [
    {
      "cell_type": "markdown",
      "source": [
        "# In this video , we are going to learn about:\n",
        "# 1.If-Else Statement\n",
        "# 2. Some Programme based on If-Else statement.\n"
      ],
      "metadata": {
        "id": "ITB_goshoTpO"
      }
    },
    {
      "cell_type": "markdown",
      "source": [
        "# If-else in Python"
      ],
      "metadata": {
        "id": "Iq7CzVFs7mWT"
      }
    },
    {
      "cell_type": "code",
      "source": [
        "'''The if-else statement is used to execute both the true part and the false part of a given condition. \n",
        "If the condition is true, the if block code is executed and if the condition is false, the else block code is executed.'''"
      ],
      "metadata": {
        "id": "e2uzjLnErB6S"
      },
      "execution_count": null,
      "outputs": []
    },
    {
      "cell_type": "code",
      "source": [
        "#If Statement\n",
        "a = 33\n",
        "b = 200\n",
        "if b<a:\n",
        "  print('b is grater than a')\n",
        " \n",
        "#In this example we use two variables, a and b, which are used as part of the if statement to test whether b is\n",
        " #  greater than a. As a is 33, and b is 200, we know that 200 is greater than 33, and so we print to screen that \n",
        "  # (b is greater than a)\n"
      ],
      "metadata": {
        "id": "QjhaLMdHF5IH"
      },
      "execution_count": null,
      "outputs": []
    },
    {
      "cell_type": "code",
      "source": [
        "#Elif Statement\n",
        "#The elif keyword is Python's way of saying \"if the previous conditions were not true, then try this condition\".\n",
        "\n",
        "a =50\n",
        "b=50\n",
        "if a>b:\n",
        "  print('a is grater than b')\n",
        "elif a==b:\n",
        "  print(' a is equal to b')  \n",
        "\n",
        "'''In this example a is equal to b, so the first condition is not true, but the elif condition is true,\n",
        " so we print to screen that \"a and b are equal\".\n",
        "'''\n",
        "\n"
      ],
      "metadata": {
        "id": "tV-q288YF-_T",
        "colab": {
          "base_uri": "https://localhost:8080/",
          "height": 70
        },
        "outputId": "31a26523-7208-4ccd-82bd-eee7bcf706f1"
      },
      "execution_count": null,
      "outputs": [
        {
          "output_type": "stream",
          "name": "stdout",
          "text": [
            " a is equal to b\n"
          ]
        },
        {
          "output_type": "execute_result",
          "data": {
            "text/plain": [
              "'In this example a is equal to b, so the first condition is not true, but the elif condition is true,\\n so we print to screen that \"a and b are equal\".\\n'"
            ],
            "application/vnd.google.colaboratory.intrinsic+json": {
              "type": "string"
            }
          },
          "metadata": {},
          "execution_count": 12
        }
      ]
    },
    {
      "cell_type": "code",
      "source": [
        "#Else Statement\n",
        "#The else keyword catches anything which isn't caught by the preceding conditions.\n",
        "\n",
        "a =20\n",
        "b =5\n",
        "if a==b:\n",
        "  print('a is equal to b')\n",
        "elif b >a:\n",
        "  print('b is greate than a')\n",
        "else:\n",
        "  print('a is greter than b')    \n",
        "'''In this example a is greater than b, so the first condition is not true, also the elif condition is not true, \n",
        "so we go to the else condition and print to screen that \"a is greater than b\".'''  "
      ],
      "metadata": {
        "id": "6mvR8JOGGzii"
      },
      "execution_count": null,
      "outputs": []
    },
    {
      "cell_type": "code",
      "source": [
        "# login program and indentation\n",
        "# email -> datasciencewithnabin.com\n",
        "# password -> 1234\n",
        "\n",
        "email = input('Enter your email')\n",
        "password = input('Enter your Password')\n",
        "if email=='datasciencewithnabin.com' and password=='1234':\n",
        "  print('welcome to data science class')\n",
        "elif email=='datasciencewithnabin.com' and password !='1234':  \n",
        "  print('wrong password')\n",
        "  #enter password again\n",
        "  password = input('Enter your password again')\n",
        "  if password=='1234':\n",
        "    print('Welcome into data science class again')\n",
        "  else:\n",
        "    print('Bro, just leave ot. you can do it !')  \n",
        "\n"
      ],
      "metadata": {
        "id": "dGz-83pN7oxe",
        "colab": {
          "base_uri": "https://localhost:8080/"
        },
        "outputId": "bb3eec2d-f7ed-4a7b-a7bc-b8245d3162ae"
      },
      "execution_count": null,
      "outputs": [
        {
          "output_type": "stream",
          "name": "stdout",
          "text": [
            "Enter your emaildatasciencewithnabin.com\n",
            "Enter your Passwordhghjgj\n",
            "wrong password\n",
            "Enter your password againjhjakhf\n",
            "Bro, just leave ot. you can do it !\n"
          ]
        }
      ]
    },
    {
      "cell_type": "code",
      "source": [
        "# if-else examples\n",
        "# 1. Find the min of 3 given numbers\n",
        "# 2. Menu Driven Program"
      ],
      "metadata": {
        "id": "qo_1tY2ABlAX"
      },
      "execution_count": null,
      "outputs": []
    },
    {
      "cell_type": "code",
      "source": [
        "# min of 3 number\n",
        "a = 2\n",
        "b=3\n",
        "c=4\n",
        "if a<b and a <c:\n",
        "  print('a is smallest number')\n",
        "elif b<c:\n",
        "  print('b is smallest number')\n",
        "else:\n",
        "  print('c is smallest number')    \n"
      ],
      "metadata": {
        "colab": {
          "base_uri": "https://localhost:8080/"
        },
        "id": "gQpTJbMH3W6_",
        "outputId": "abf505b9-5e64-43b1-c114-a8ef8aa90b13"
      },
      "execution_count": null,
      "outputs": [
        {
          "output_type": "stream",
          "name": "stdout",
          "text": [
            "a is smallest number\n"
          ]
        }
      ]
    },
    {
      "cell_type": "code",
      "source": [
        "# menu driven calculator\n",
        "\n",
        "menu =input('''\n",
        "1. type 1 to check balance !\n",
        "2. type 2 to withdraw money !\n",
        "3. exist.\n",
        "''')\n",
        "if menu=='1':\n",
        "  print('your balance is 40000$')\n",
        "elif menu=='2':\n",
        "  print('you had withdraw 4000$ from your bank')\n",
        "else:\n",
        "  print('exist')    "
      ],
      "metadata": {
        "colab": {
          "base_uri": "https://localhost:8080/"
        },
        "id": "hgNqlC5C4jqF",
        "outputId": "dab562a2-123f-426a-8919-8cffa9d7f1f5"
      },
      "execution_count": null,
      "outputs": [
        {
          "output_type": "stream",
          "name": "stdout",
          "text": [
            "\n",
            "1. type 1 to check balance !\n",
            "2. type 2 to withdraw money !\n",
            "3. exist.\n",
            "3\n",
            "exist\n"
          ]
        }
      ]
    }
  ]
}