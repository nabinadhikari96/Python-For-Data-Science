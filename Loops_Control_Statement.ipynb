{
  "nbformat": 4,
  "nbformat_minor": 0,
  "metadata": {
    "colab": {
      "provenance": []
    },
    "kernelspec": {
      "name": "python3",
      "display_name": "Python 3"
    },
    "language_info": {
      "name": "python"
    }
  },
  "cells": [
    {
      "cell_type": "markdown",
      "source": [
        "# Loop Control Statement\n",
        "\n",
        "- Break\n",
        "- Continue\n",
        "- Pass"
      ],
      "metadata": {
        "id": "oFemwQBw_8Q1"
      }
    },
    {
      "cell_type": "code",
      "source": [
        "'''break, pass, and continue statements are provided in Python to handle instances where you need \n",
        "to escape a loop fully when an external condition is triggered or when you want to bypass a section \n",
        "of the loop and begin the next iteration. These statements can also help you gain better control of your loop.'''"
      ],
      "metadata": {
        "id": "1myxEzATiSuY"
      },
      "execution_count": null,
      "outputs": []
    },
    {
      "cell_type": "code",
      "source": [
        "#Break\n",
        "#The break statement is used to terminate the loop immediately when it is encountered.\n",
        "\n",
        "for i in range(1,5):\n",
        "  if i==3:\n",
        "    break\n",
        "  print(i)  \n"
      ],
      "metadata": {
        "colab": {
          "base_uri": "https://localhost:8080/"
        },
        "id": "9NNS6bDL_82u",
        "outputId": "ca34f30d-56c2-483d-9ba4-8202446610ee"
      },
      "execution_count": 1,
      "outputs": [
        {
          "output_type": "stream",
          "name": "stdout",
          "text": [
            "1\n",
            "2\n"
          ]
        }
      ]
    },
    {
      "cell_type": "code",
      "source": [
        "# Continue\n",
        "#The continue statement is used to skip the remaining code inside a loop for the current iteration only.\n",
        "for i in range(1,10):\n",
        "  if i==5:\n",
        "    continue\n",
        "  print(i)  "
      ],
      "metadata": {
        "colab": {
          "base_uri": "https://localhost:8080/"
        },
        "id": "QPwyXdT09b2K",
        "outputId": "1f698964-3d88-4ce9-956d-aef6aeaa121e"
      },
      "execution_count": 2,
      "outputs": [
        {
          "output_type": "stream",
          "name": "stdout",
          "text": [
            "1\n",
            "2\n",
            "3\n",
            "4\n",
            "6\n",
            "7\n",
            "8\n",
            "9\n"
          ]
        }
      ]
    },
    {
      "cell_type": "code",
      "source": [
        "#Pass\n",
        "#The pass statement is used as a placeholder for future code.\n",
        "# When the pass statement is executed, nothing happens, but you avoid getting an error when empty code is not allowed.\n",
        "for i in range(1,10):\n",
        "  pass"
      ],
      "metadata": {
        "id": "c_kqggLg9b_i"
      },
      "execution_count": 4,
      "outputs": []
    }
  ]
}