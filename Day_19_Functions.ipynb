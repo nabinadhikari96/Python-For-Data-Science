{
  "nbformat": 4,
  "nbformat_minor": 0,
  "metadata": {
    "colab": {
      "provenance": []
    },
    "kernelspec": {
      "name": "python3",
      "display_name": "Python 3"
    },
    "language_info": {
      "name": "python"
    }
  },
  "cells": [
    {
      "cell_type": "markdown",
      "source": [
        "### Let's create a function"
      ],
      "metadata": {
        "id": "o5waCVTx-wGt"
      }
    },
    {
      "cell_type": "markdown",
      "source": [],
      "metadata": {
        "id": "ZPxptw_I69g0"
      }
    },
    {
      "cell_type": "code",
      "source": [
        "#A function is a block of code which only runs when it is called."
      ],
      "metadata": {
        "id": "QaM36i9Q-yR9"
      },
      "execution_count": null,
      "outputs": []
    },
    {
      "cell_type": "code",
      "source": [
        "# function\n",
        "def sum(a,b):\n",
        "  s = a+b\n",
        "  print(s)\n",
        "sum(2,3)  "
      ],
      "metadata": {
        "id": "Qn3xFuzq5Yp-",
        "colab": {
          "base_uri": "https://localhost:8080/"
        },
        "outputId": "bb8312bc-dd3f-479d-a8ff-7043dc77e956"
      },
      "execution_count": null,
      "outputs": [
        {
          "output_type": "stream",
          "name": "stdout",
          "text": [
            "5\n"
          ]
        }
      ]
    },
    {
      "cell_type": "code",
      "source": [
        "#documentation\n",
        "print(type.__doc__)"
      ],
      "metadata": {
        "id": "Arh0ADgy_lNe",
        "colab": {
          "base_uri": "https://localhost:8080/"
        },
        "outputId": "00c22cb1-f1a0-42c4-df78-3f826add8c5e"
      },
      "execution_count": null,
      "outputs": [
        {
          "output_type": "stream",
          "name": "stdout",
          "text": [
            "type(object) -> the object's type\n",
            "type(name, bases, dict, **kwds) -> a new type\n"
          ]
        }
      ]
    },
    {
      "cell_type": "markdown",
      "source": [
        "### Parameters Vs Arguments"
      ],
      "metadata": {
        "id": "f3cIuikR-52f"
      }
    },
    {
      "cell_type": "markdown",
      "source": [
        "**A parameter is the variable listed inside the parentheses in the function definition. \n",
        "An argument is the value that are sent to the function when it is called**"
      ],
      "metadata": {
        "id": "PlyMSorp7ezM"
      }
    },
    {
      "cell_type": "markdown",
      "source": [
        "### Types of Arguments\n",
        "\n",
        "- Default Argument\n",
        "- Positional Argument\n",
        "- Keyword Argument"
      ],
      "metadata": {
        "id": "6hOt68rR-84k"
      }
    },
    {
      "cell_type": "code",
      "source": [
        " #Default Arguments\n",
        "def sum(a=9,b=9):\n",
        "  s = a+b\n",
        "  print(s)\n",
        "sum()  "
      ],
      "metadata": {
        "id": "9hmqV3-e-8HU",
        "colab": {
          "base_uri": "https://localhost:8080/"
        },
        "outputId": "66c43279-fddb-4503-9c53-7a7d9145cb91"
      },
      "execution_count": 6,
      "outputs": [
        {
          "output_type": "stream",
          "name": "stdout",
          "text": [
            "18\n"
          ]
        }
      ]
    },
    {
      "cell_type": "code",
      "source": [
        "# positional argument\n",
        "def power(a,b):\n",
        "  p = a**b\n",
        "  print(p)\n",
        "power(3,1)   \n",
        "  "
      ],
      "metadata": {
        "id": "pgPxz-57_Ltw",
        "colab": {
          "base_uri": "https://localhost:8080/"
        },
        "outputId": "6d89108d-fca1-4e2e-c71a-46d5fe6443cb"
      },
      "execution_count": 11,
      "outputs": [
        {
          "output_type": "stream",
          "name": "stdout",
          "text": [
            "3\n"
          ]
        }
      ]
    },
    {
      "cell_type": "code",
      "source": [
        "# keyword argument\n",
        "def power(a,b):\n",
        "  p = a**b\n",
        "  print(p)\n",
        "power(b=1,a=3)   "
      ],
      "metadata": {
        "id": "lGdofKL981pz",
        "colab": {
          "base_uri": "https://localhost:8080/"
        },
        "outputId": "84fb6148-f417-457a-f154-eac137f91d99"
      },
      "execution_count": 12,
      "outputs": [
        {
          "output_type": "stream",
          "name": "stdout",
          "text": [
            "3\n"
          ]
        }
      ]
    },
    {
      "cell_type": "markdown",
      "source": [
        "### `*args and **kwargs`\n",
        "`*args and **kwargs` are special Python keywords that are used to pass the variable length of arguments to a function"
      ],
      "metadata": {
        "id": "ynO59kYKLhGZ"
      }
    },
    {
      "cell_type": "code",
      "source": [
        "# *args\n",
        "# allows us to pass a variable number of non-keyword arguments to a function.\n",
        "def multiply(*args):\n",
        "  product = 1\n",
        "  for i in args:\n",
        "    product = product*i\n",
        "  print(args)\n",
        "  return product  \n",
        "multiply(1,2,3,4,5,6,7,8,9,9,9,9,9,9,9,9,9,9,9,9,9,9,9,9)  \n"
      ],
      "metadata": {
        "id": "3dcjff8W_L3d",
        "colab": {
          "base_uri": "https://localhost:8080/"
        },
        "outputId": "e164fd4a-67f7-46df-a49c-b33bce7be661"
      },
      "execution_count": 14,
      "outputs": [
        {
          "output_type": "stream",
          "name": "stdout",
          "text": [
            "(1, 2, 3, 4, 5, 6, 7, 8, 9, 9, 9, 9, 9, 9, 9, 9, 9, 9, 9, 9, 9, 9, 9, 9)\n"
          ]
        },
        {
          "output_type": "execute_result",
          "data": {
            "text/plain": [
              "74713774014506229120"
            ]
          },
          "metadata": {},
          "execution_count": 14
        }
      ]
    },
    {
      "cell_type": "code",
      "source": [
        "# **kwargs\n",
        "# **kwargs allows us to pass any number of keyword arguments.\n",
        "# Keyword arguments mean that they contain a key-value pair, like a Python dictionary.\n",
        "def display(**kwargs):\n",
        "  for (key,value) in kwargs.items():\n",
        "    print(key,'->',value)\n",
        "display(name = 'nabin',gender = 'male')    "
      ],
      "metadata": {
        "id": "mZuZrciV-I8D",
        "colab": {
          "base_uri": "https://localhost:8080/"
        },
        "outputId": "6d122421-5ac2-4c35-d2d3-aae61b447a3b"
      },
      "execution_count": 15,
      "outputs": [
        {
          "output_type": "stream",
          "name": "stdout",
          "text": [
            "name -> nabin\n",
            "gender -> male\n"
          ]
        }
      ]
    },
    {
      "cell_type": "markdown",
      "source": [
        "##### Points to remember while using `*args and **kwargs`\n",
        "\n",
        "- order of the arguments matter(normal -> `*args` -> `**kwargs`)\n",
        "- The words “args” and “kwargs” are only a convention, you can use any name of your choice\n"
      ],
      "metadata": {
        "id": "zHVEKbPzlJCE"
      }
    },
    {
      "cell_type": "code",
      "source": [],
      "metadata": {
        "id": "g3HKjKtIAaKs"
      },
      "execution_count": null,
      "outputs": []
    }
  ]
}