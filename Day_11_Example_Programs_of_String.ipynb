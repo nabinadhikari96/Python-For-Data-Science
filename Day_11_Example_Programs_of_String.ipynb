{
  "nbformat": 4,
  "nbformat_minor": 0,
  "metadata": {
    "colab": {
      "provenance": []
    },
    "kernelspec": {
      "name": "python3",
      "display_name": "Python 3"
    },
    "language_info": {
      "name": "python"
    }
  },
  "cells": [
    {
      "cell_type": "markdown",
      "source": [
        "## Example Programs"
      ],
      "metadata": {
        "id": "YvVCKvEhNhie"
      }
    },
    {
      "cell_type": "code",
      "source": [
        "#write a program to find length without using len()\n",
        "s =input('Enter string')\n",
        "counter = 0\n",
        "\n",
        "for i in s:\n",
        "  counter += 1\n",
        "print('lenth is :',counter)  "
      ],
      "metadata": {
        "id": "KKEdMynlM-_F",
        "colab": {
          "base_uri": "https://localhost:8080/"
        },
        "outputId": "db380efb-358f-42d2-dc96-652bb5f0bbe0"
      },
      "execution_count": 15,
      "outputs": [
        {
          "output_type": "stream",
          "name": "stdout",
          "text": [
            "Enter stringnabin\n",
            "lenth is : 5\n"
          ]
        }
      ]
    },
    {
      "cell_type": "code",
      "source": [
        "# Extract username from a given email. \n",
        "# Eg if the email is nabin@gmail.com \n",
        "# then the username should be nabin\n",
        "\n",
        "email = input('Enter your email')\n",
        "position = email.index('@')\n",
        "print(email[0:position])\n",
        "\n"
      ],
      "metadata": {
        "id": "2Db_x3upNzFo",
        "colab": {
          "base_uri": "https://localhost:8080/"
        },
        "outputId": "80d8389b-bc63-47f8-8f4a-f0196618a3d4"
      },
      "execution_count": 16,
      "outputs": [
        {
          "output_type": "stream",
          "name": "stdout",
          "text": [
            "Enter your emailnabin@gmail,com\n",
            "nabin\n"
          ]
        }
      ]
    },
    {
      "cell_type": "code",
      "source": [
        "# Count the frequency of a particular character in a provided string. \n",
        "# Eg 'hello how are you' is the string, the frequency of h in this string is 2.\n",
        "\n",
        "\n",
        "q = input('Enter string')\n",
        "w = input('what you want to saerch')\n",
        "counter = 0\n",
        "for i in q:\n",
        "  if i==w:\n",
        "    counter += 1\n",
        "print('Frequecy',counter)    "
      ],
      "metadata": {
        "id": "N7agO2bGN6ZH",
        "colab": {
          "base_uri": "https://localhost:8080/"
        },
        "outputId": "85dcadf8-53c2-4ca8-d27e-22940c163743"
      },
      "execution_count": 17,
      "outputs": [
        {
          "output_type": "stream",
          "name": "stdout",
          "text": [
            "Enter stringnabin\n",
            "what you want to saerchn\n",
            "Frequecy 2\n"
          ]
        }
      ]
    }
  ]
}