{
  "nbformat": 4,
  "nbformat_minor": 0,
  "metadata": {
    "colab": {
      "provenance": []
    },
    "kernelspec": {
      "name": "python3",
      "display_name": "Python 3"
    },
    "language_info": {
      "name": "python"
    }
  },
  "cells": [
    {
      "cell_type": "markdown",
      "source": [
        "# Sets\n",
        "\n",
        "A set is an unordered collection of items. Every set element is unique (no duplicates) and must be immutable (cannot be changed).\n",
        "\n",
        "However, a set itself is mutable. We can add or remove items from it.\n",
        "\n",
        "Sets can also be used to perform mathematical set operations like union, intersection, symmetric difference, etc.\n",
        "\n",
        "Characterstics:\n",
        "- Unordered\n",
        "- Mutable\n",
        "- No Duplicates\n",
        "- Can't contain mutable data types"
      ],
      "metadata": {
        "id": "wZfWh6bstK70"
      }
    },
    {
      "cell_type": "markdown",
      "source": [
        "### Creating Sets"
      ],
      "metadata": {
        "id": "cr172PHQy2sD"
      }
    },
    {
      "cell_type": "code",
      "source": [
        "# empty\n",
        "s1 = { }\n",
        "print(s1)\n",
        "# 1D and 2D\n",
        "s1 = {1,2,3,4}\n",
        "print(s1)\n",
        "\n",
        "s2 = {1,2,3,(9,0,8)}\n",
        "print(s2)\n",
        "# homo and hetro\n",
        "s3 = {1,2,3,4}\n",
        "print(s3)\n",
        "\n",
        "s4 = {1,2.2,'hello'}\n",
        "print(s4)\n",
        "# using type conversion\n",
        "print(set('hello'))\n",
        "# duplicates not allowed\n",
        "s5 = {1,2,3,4,4,4,4,2,1}\n",
        "print(s5)\n",
        "# set can't have mutable items\n",
        "s6  = {1,2,3,(9,0,7)}\n",
        "print(s6)"
      ],
      "metadata": {
        "colab": {
          "base_uri": "https://localhost:8080/"
        },
        "id": "0UBYWcTYvmug",
        "outputId": "26781502-b59a-490b-8e9a-7da72a74b369"
      },
      "execution_count": 52,
      "outputs": [
        {
          "output_type": "stream",
          "name": "stdout",
          "text": [
            "{}\n",
            "{1, 2, 3, 4}\n",
            "{(9, 0, 8), 1, 2, 3}\n",
            "{1, 2, 3, 4}\n",
            "{'hello', 1, 2.2}\n",
            "{'h', 'l', 'o', 'e'}\n",
            "{1, 2, 3, 4}\n",
            "{1, 2, 3, (9, 0, 7)}\n"
          ]
        }
      ]
    },
    {
      "cell_type": "code",
      "source": [],
      "metadata": {
        "id": "VxnwBigY4PsS"
      },
      "execution_count": null,
      "outputs": []
    },
    {
      "cell_type": "code",
      "source": [],
      "metadata": {
        "id": "2APtPRBm4P2z"
      },
      "execution_count": null,
      "outputs": []
    },
    {
      "cell_type": "markdown",
      "source": [
        "### Accessing Items"
      ],
      "metadata": {
        "id": "N4XE7Jdcy6I6"
      }
    },
    {
      "cell_type": "code",
      "source": [
        "\n",
        "s = {1,2,3,4,5}\n",
        "s[0]"
      ],
      "metadata": {
        "colab": {
          "base_uri": "https://localhost:8080/",
          "height": 190
        },
        "id": "1FTPU90-y8Vm",
        "outputId": "36a1f78f-1e45-45bb-dc45-964d6195340a"
      },
      "execution_count": 53,
      "outputs": [
        {
          "output_type": "error",
          "ename": "TypeError",
          "evalue": "ignored",
          "traceback": [
            "\u001b[0;31m---------------------------------------------------------------------------\u001b[0m",
            "\u001b[0;31mTypeError\u001b[0m                                 Traceback (most recent call last)",
            "\u001b[0;32m<ipython-input-53-d058a89483f6>\u001b[0m in \u001b[0;36m<module>\u001b[0;34m\u001b[0m\n\u001b[1;32m      1\u001b[0m \u001b[0ms\u001b[0m \u001b[0;34m=\u001b[0m \u001b[0;34m{\u001b[0m\u001b[0;36m1\u001b[0m\u001b[0;34m,\u001b[0m\u001b[0;36m2\u001b[0m\u001b[0;34m,\u001b[0m\u001b[0;36m3\u001b[0m\u001b[0;34m,\u001b[0m\u001b[0;36m4\u001b[0m\u001b[0;34m,\u001b[0m\u001b[0;36m5\u001b[0m\u001b[0;34m}\u001b[0m\u001b[0;34m\u001b[0m\u001b[0;34m\u001b[0m\u001b[0m\n\u001b[0;32m----> 2\u001b[0;31m \u001b[0ms\u001b[0m\u001b[0;34m[\u001b[0m\u001b[0;36m0\u001b[0m\u001b[0;34m]\u001b[0m\u001b[0;34m\u001b[0m\u001b[0;34m\u001b[0m\u001b[0m\n\u001b[0m",
            "\u001b[0;31mTypeError\u001b[0m: 'set' object is not subscriptable"
          ]
        }
      ]
    },
    {
      "cell_type": "markdown",
      "source": [
        "### Editing Items"
      ],
      "metadata": {
        "id": "04eW94rFy9ce"
      }
    },
    {
      "cell_type": "code",
      "source": [
        "s = {1,2,3,4,5}\n",
        "s[0]=8"
      ],
      "metadata": {
        "colab": {
          "base_uri": "https://localhost:8080/",
          "height": 190
        },
        "id": "gPnAaZYvzLF2",
        "outputId": "54c1c48e-e8b6-4e21-e4e0-f58ed46bbcc8"
      },
      "execution_count": 54,
      "outputs": [
        {
          "output_type": "error",
          "ename": "TypeError",
          "evalue": "ignored",
          "traceback": [
            "\u001b[0;31m---------------------------------------------------------------------------\u001b[0m",
            "\u001b[0;31mTypeError\u001b[0m                                 Traceback (most recent call last)",
            "\u001b[0;32m<ipython-input-54-eb0af8a71ed4>\u001b[0m in \u001b[0;36m<module>\u001b[0;34m\u001b[0m\n\u001b[1;32m      1\u001b[0m \u001b[0ms\u001b[0m \u001b[0;34m=\u001b[0m \u001b[0;34m{\u001b[0m\u001b[0;36m1\u001b[0m\u001b[0;34m,\u001b[0m\u001b[0;36m2\u001b[0m\u001b[0;34m,\u001b[0m\u001b[0;36m3\u001b[0m\u001b[0;34m,\u001b[0m\u001b[0;36m4\u001b[0m\u001b[0;34m,\u001b[0m\u001b[0;36m5\u001b[0m\u001b[0;34m}\u001b[0m\u001b[0;34m\u001b[0m\u001b[0;34m\u001b[0m\u001b[0m\n\u001b[0;32m----> 2\u001b[0;31m \u001b[0ms\u001b[0m\u001b[0;34m[\u001b[0m\u001b[0;36m0\u001b[0m\u001b[0;34m]\u001b[0m\u001b[0;34m=\u001b[0m\u001b[0;36m8\u001b[0m\u001b[0;34m\u001b[0m\u001b[0;34m\u001b[0m\u001b[0m\n\u001b[0m",
            "\u001b[0;31mTypeError\u001b[0m: 'set' object does not support item assignment"
          ]
        }
      ]
    },
    {
      "cell_type": "markdown",
      "source": [
        "### Adding Items"
      ],
      "metadata": {
        "id": "5xsL5JF-zLkI"
      }
    },
    {
      "cell_type": "code",
      "source": [
        "#add\n",
        "s = {1,2,3,4,5}\n",
        "s.add(0)\n",
        "print(s)\n",
        "#update\n",
        "s.update([6,7])\n",
        "print(s)"
      ],
      "metadata": {
        "colab": {
          "base_uri": "https://localhost:8080/"
        },
        "id": "qiRjVBv6zNnO",
        "outputId": "b7a1fcff-9e66-4132-863e-04b2a729d78c"
      },
      "execution_count": 57,
      "outputs": [
        {
          "output_type": "stream",
          "name": "stdout",
          "text": [
            "{0, 1, 2, 3, 4, 5}\n",
            "{0, 1, 2, 3, 4, 5, 6, 7}\n"
          ]
        }
      ]
    },
    {
      "cell_type": "markdown",
      "source": [
        "### Deleting Items"
      ],
      "metadata": {
        "id": "3cRiDI8CzOGL"
      }
    },
    {
      "cell_type": "code",
      "source": [
        "# del\n",
        "s = {1,2,3,4,5}\n",
        "#print(s)\n",
        "#del s\n",
        "#print(s)\n",
        "#del s[0]\n",
        "#print(s)\n",
        "#discard\n",
        "#s.discard(500)\n",
        "#print(s)\n",
        "#remove\n",
        "#s.remove(50)\n",
        "#print(s)\n",
        "#pop\n",
        "s.pop()\n",
        "\n",
        "#clear\n",
        "s.clear()\n",
        "print(s)"
      ],
      "metadata": {
        "colab": {
          "base_uri": "https://localhost:8080/"
        },
        "id": "IyIhIyqzzPT6",
        "outputId": "e6994430-fef1-41a1-fab8-89e5a66850a7"
      },
      "execution_count": 69,
      "outputs": [
        {
          "output_type": "stream",
          "name": "stdout",
          "text": [
            "set()\n"
          ]
        }
      ]
    },
    {
      "cell_type": "markdown",
      "source": [
        "### Set Operation"
      ],
      "metadata": {
        "id": "Cil9LKcszP09"
      }
    },
    {
      "cell_type": "code",
      "source": [
        "# union (|)\n",
        "a = {1,2,3}\n",
        "b = {3,4,5}\n",
        "#print(a|b)\n",
        "#intersection (&)\n",
        "print(a & b)\n",
        "#Differences(-)\n",
        "print(a-b)\n",
        "#membership test\n",
        "1 in a \n",
        "#iteration\n",
        "for i in a:\n",
        "  print(i)"
      ],
      "metadata": {
        "colab": {
          "base_uri": "https://localhost:8080/"
        },
        "id": "pC3f28V5zRNG",
        "outputId": "9939afd9-bbe6-46ef-8fdc-422e60b5e433"
      },
      "execution_count": 74,
      "outputs": [
        {
          "output_type": "stream",
          "name": "stdout",
          "text": [
            "{3}\n",
            "{1, 2}\n",
            "1\n",
            "2\n",
            "3\n"
          ]
        }
      ]
    },
    {
      "cell_type": "markdown",
      "source": [
        "### Set Functions"
      ],
      "metadata": {
        "id": "DYP9VCyUzRy_"
      }
    },
    {
      "cell_type": "code",
      "source": [
        "#len/sum/min/max/sorted\n",
        "s = {1,2,3,4,5,6,7}\n",
        "len(s)\n",
        "sum(s)\n",
        "min(s)\n",
        "max(s)\n",
        "sorted(s,reverse = True)"
      ],
      "metadata": {
        "colab": {
          "base_uri": "https://localhost:8080/"
        },
        "id": "pte3wLPM3tcz",
        "outputId": "e941bea1-dbfe-47c4-c08f-531f96495599"
      },
      "execution_count": 80,
      "outputs": [
        {
          "output_type": "execute_result",
          "data": {
            "text/plain": [
              "[7, 6, 5, 4, 3, 2, 1]"
            ]
          },
          "metadata": {},
          "execution_count": 80
        }
      ]
    },
    {
      "cell_type": "markdown",
      "source": [
        "### Set Comprehension"
      ],
      "metadata": {
        "id": "KcTsyq3G6Qkr"
      }
    },
    {
      "cell_type": "code",
      "source": [
        "# examples\n",
        "s = {1,2,3}\n",
        "{i*i for i in s}"
      ],
      "metadata": {
        "colab": {
          "base_uri": "https://localhost:8080/"
        },
        "id": "yvPmmWDm6SR8",
        "outputId": "45750fe2-0b26-4467-9251-57971c5d2abe"
      },
      "execution_count": 82,
      "outputs": [
        {
          "output_type": "execute_result",
          "data": {
            "text/plain": [
              "{1, 4, 9}"
            ]
          },
          "metadata": {},
          "execution_count": 82
        }
      ]
    }
  ]
}