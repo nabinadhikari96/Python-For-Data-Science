{
  "nbformat": 4,
  "nbformat_minor": 0,
  "metadata": {
    "colab": {
      "provenance": []
    },
    "kernelspec": {
      "name": "python3",
      "display_name": "Python 3"
    },
    "language_info": {
      "name": "python"
    }
  },
  "cells": [
    {
      "cell_type": "markdown",
      "source": [
        "### Operations on Tuples"
      ],
      "metadata": {
        "id": "VhxuX2KXmhs0"
      }
    },
    {
      "cell_type": "code",
      "source": [
        "# + and *\n",
        "t = (1,2,3,4,5)\n",
        "t1 = (6,7,8,9,0)\n",
        "print(t+t1)\n",
        "\n",
        "print(t*3)\n",
        "\n",
        "\n",
        "\n",
        "\n",
        "# membership\n",
        "0 in t\n",
        "\n",
        "# iteration\n",
        "for i in t:\n",
        "  print(i)\n"
      ],
      "metadata": {
        "colab": {
          "base_uri": "https://localhost:8080/"
        },
        "id": "EKUS6wWEmj9o",
        "outputId": "146e23a3-8061-4a33-e46e-c14e2a55ccda"
      },
      "execution_count": null,
      "outputs": [
        {
          "output_type": "stream",
          "name": "stdout",
          "text": [
            "(1, 2, 3, 4, 5, 6, 7, 8, 9, 0)\n",
            "(1, 2, 3, 4, 5, 1, 2, 3, 4, 5, 1, 2, 3, 4, 5)\n",
            "1\n",
            "2\n",
            "3\n",
            "4\n",
            "5\n"
          ]
        }
      ]
    },
    {
      "cell_type": "markdown",
      "source": [
        "### Tuple Functions"
      ],
      "metadata": {
        "id": "N52xMYoPmkcZ"
      }
    },
    {
      "cell_type": "code",
      "source": [
        "# len/sum/min/max/sorted\n",
        "t = (1,2,3,4,5)\n",
        "len(t)\n",
        "sum(t)\n",
        "min(t)\n",
        "max(t)\n",
        "sorted(t,reverse = True)"
      ],
      "metadata": {
        "colab": {
          "base_uri": "https://localhost:8080/"
        },
        "id": "Qwevex2Gmmm3",
        "outputId": "d4ca1d4b-26df-44de-d927-7e08cfdc6bec"
      },
      "execution_count": null,
      "outputs": [
        {
          "output_type": "execute_result",
          "data": {
            "text/plain": [
              "[5, 4, 3, 2, 1]"
            ]
          },
          "metadata": {},
          "execution_count": 12
        }
      ]
    },
    {
      "cell_type": "code",
      "source": [
        "# count\n",
        "o = (1,2,3,4,5,5,5,5)\n",
        "o.count(5)\n"
      ],
      "metadata": {
        "colab": {
          "base_uri": "https://localhost:8080/"
        },
        "id": "u7SKgEcqmuQC",
        "outputId": "b3310284-1fd3-4c9c-881f-0041dbbc80a0"
      },
      "execution_count": null,
      "outputs": [
        {
          "output_type": "execute_result",
          "data": {
            "text/plain": [
              "4"
            ]
          },
          "metadata": {},
          "execution_count": 15
        }
      ]
    },
    {
      "cell_type": "code",
      "source": [
        "# index\n",
        "o.index(4)"
      ],
      "metadata": {
        "colab": {
          "base_uri": "https://localhost:8080/"
        },
        "id": "4RfqeoXYnBR8",
        "outputId": "ff74d339-c54f-4f57-fc21-fa1112d61a29"
      },
      "execution_count": null,
      "outputs": [
        {
          "output_type": "execute_result",
          "data": {
            "text/plain": [
              "3"
            ]
          },
          "metadata": {},
          "execution_count": 17
        }
      ]
    },
    {
      "cell_type": "markdown",
      "source": [
        "### Difference between Lists and Tuples\n",
        "\n",
        "- Syntax\n",
        "- Mutability\n",
        "- Speed\n",
        "- Memory\n",
        "- Built in functionality\n",
        "- Error prone\n",
        "- Usability\n"
      ],
      "metadata": {
        "id": "QGYg0ZdSenvk"
      }
    },
    {
      "cell_type": "code",
      "source": [
        " #speed\n",
        "import time\n",
        "L = list(range(1000))\n",
        "T = tuple(range(1000))\n",
        "\n",
        "start = time.time()\n",
        "for i in L:\n",
        "  i*5\n",
        "print('List time taken',time.time()-start)\n",
        "\n",
        "start = time.time()\n",
        "for i in T:\n",
        "  i*5\n",
        "print('Tuple time taken',time.time()-start)  "
      ],
      "metadata": {
        "colab": {
          "base_uri": "https://localhost:8080/"
        },
        "id": "jH-mqGAIfINw",
        "outputId": "a2883428-857f-4279-966a-a94114152d62"
      },
      "execution_count": 3,
      "outputs": [
        {
          "output_type": "stream",
          "name": "stdout",
          "text": [
            "List time taken 0.00023126602172851562\n",
            "Tuple time taken 0.00022673606872558594\n"
          ]
        }
      ]
    },
    {
      "cell_type": "code",
      "source": [
        "#memory\n",
        "import sys\n",
        "L = list(range(1000))\n",
        "T = tuple(range(1000))\n",
        "print('List size',sys.getsizeof(L))\n",
        "print('Tuple Size',sys.getsizeof(T))"
      ],
      "metadata": {
        "colab": {
          "base_uri": "https://localhost:8080/"
        },
        "id": "Wf_wmm24grcx",
        "outputId": "5c8fa2d9-bd9b-4f5c-9b39-d1281ba8866f"
      },
      "execution_count": 4,
      "outputs": [
        {
          "output_type": "stream",
          "name": "stdout",
          "text": [
            "List size 8056\n",
            "Tuple Size 8040\n"
          ]
        }
      ]
    }
  ]
}