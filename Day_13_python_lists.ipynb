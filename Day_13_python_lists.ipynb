{
  "nbformat": 4,
  "nbformat_minor": 0,
  "metadata": {
    "colab": {
      "provenance": []
    },
    "kernelspec": {
      "name": "python3",
      "display_name": "Python 3"
    },
    "language_info": {
      "name": "python"
    }
  },
  "cells": [
    {
      "cell_type": "markdown",
      "source": [
        "## Operations on Lists\n",
        "\n",
        "- Arithmetic\n",
        "- Membership\n",
        "- Loop"
      ],
      "metadata": {
        "id": "2ghXexOj_UhL"
      }
    },
    {
      "cell_type": "code",
      "source": [
        "# Arithmetic (+ ,*)\n",
        "# Concatenation/Merge\n",
        "L = [1,4,5,2,3,0]\n",
        "l = [0,9,8,1,2,3]\n",
        "print(L+l)\n"
      ],
      "metadata": {
        "colab": {
          "base_uri": "https://localhost:8080/"
        },
        "id": "lohcJ4XD_lKp",
        "outputId": "a2ad2c2b-3d23-4421-fd3b-003d8e803627"
      },
      "execution_count": 1,
      "outputs": [
        {
          "output_type": "stream",
          "name": "stdout",
          "text": [
            "[1, 4, 5, 2, 3, 0, 0, 9, 8, 1, 2, 3]\n"
          ]
        }
      ]
    },
    {
      "cell_type": "code",
      "source": [
        "print(L*3)"
      ],
      "metadata": {
        "colab": {
          "base_uri": "https://localhost:8080/"
        },
        "id": "8AeNj1IU_lj0",
        "outputId": "d25493aa-68c3-49a6-b104-237a6b771ade"
      },
      "execution_count": 2,
      "outputs": [
        {
          "output_type": "stream",
          "name": "stdout",
          "text": [
            "[1, 4, 5, 2, 3, 0, 1, 4, 5, 2, 3, 0, 1, 4, 5, 2, 3, 0]\n"
          ]
        }
      ]
    },
    {
      "cell_type": "code",
      "source": [
        "#Membership\n",
        "L = [1,4,5,2,3,0]\n",
        "#1 in L\n",
        "#6 in L\n",
        "1 not in L"
      ],
      "metadata": {
        "colab": {
          "base_uri": "https://localhost:8080/"
        },
        "id": "b3lA4dwk_l0w",
        "outputId": "8383ec82-a36d-4628-d6c6-b584f5c1b54d"
      },
      "execution_count": 6,
      "outputs": [
        {
          "output_type": "execute_result",
          "data": {
            "text/plain": [
              "False"
            ]
          },
          "metadata": {},
          "execution_count": 6
        }
      ]
    },
    {
      "cell_type": "code",
      "source": [
        "# Loops\n",
        "#for loops\n",
        "L = [1,4,5,2,3,0]\n",
        "'''for i in L:\n",
        "  print(i)'''\n",
        "\n"
      ],
      "metadata": {
        "id": "mjGCNALmzrhn"
      },
      "execution_count": 13,
      "outputs": []
    },
    {
      "cell_type": "markdown",
      "source": [
        "## List Functions"
      ],
      "metadata": {
        "id": "Df3rQJjnY8pc"
      }
    },
    {
      "cell_type": "code",
      "source": [
        "# len/min/max/sorted\n",
        "L = [1,4,5,2,3,0]\n",
        "print(len(L))\n",
        "print(min(L))\n",
        "print(max(L))\n",
        "print(sorted(L))\n"
      ],
      "metadata": {
        "colab": {
          "base_uri": "https://localhost:8080/"
        },
        "id": "QrrAg6H_ZId5",
        "outputId": "25900172-9820-4ca3-8074-8e7a952ca570"
      },
      "execution_count": 17,
      "outputs": [
        {
          "output_type": "stream",
          "name": "stdout",
          "text": [
            "6\n",
            "0\n",
            "5\n",
            "[0, 1, 2, 3, 4, 5]\n"
          ]
        }
      ]
    },
    {
      "cell_type": "code",
      "source": [
        "# count \n",
        "Q = [2,7,9,4,6,7,1,1,7,1,7]\n",
        "Q.count(1)"
      ],
      "metadata": {
        "colab": {
          "base_uri": "https://localhost:8080/"
        },
        "id": "C0PloJaY71bd",
        "outputId": "26163b54-72eb-4126-9d19-207fce990865"
      },
      "execution_count": 23,
      "outputs": [
        {
          "output_type": "execute_result",
          "data": {
            "text/plain": [
              "3"
            ]
          },
          "metadata": {},
          "execution_count": 23
        }
      ]
    },
    {
      "cell_type": "code",
      "source": [
        "# index\n",
        "Q = [2,7,9,4,6,7,1,1,7,1,7]\n",
        "Q.index(4)"
      ],
      "metadata": {
        "colab": {
          "base_uri": "https://localhost:8080/"
        },
        "id": "s0ARSBTM8GDR",
        "outputId": "f08ce8d6-c76e-418f-c36f-6d36fef8123b"
      },
      "execution_count": 25,
      "outputs": [
        {
          "output_type": "execute_result",
          "data": {
            "text/plain": [
              "3"
            ]
          },
          "metadata": {},
          "execution_count": 25
        }
      ]
    },
    {
      "cell_type": "code",
      "source": [
        "# reverse\n",
        "Q = [2,7,9,4,6,7,1,1,7,1,7]\n",
        "\n",
        "\n",
        "# permanently reverses the list\n",
        "Q.reverse()\n",
        "print(Q)\n"
      ],
      "metadata": {
        "colab": {
          "base_uri": "https://localhost:8080/"
        },
        "id": "aFb4ersX8GQg",
        "outputId": "20d37056-8bc3-41b4-bf77-9b028b7883ac"
      },
      "execution_count": 26,
      "outputs": [
        {
          "output_type": "stream",
          "name": "stdout",
          "text": [
            "[7, 1, 7, 1, 1, 7, 6, 4, 9, 7, 2]\n"
          ]
        }
      ]
    },
    {
      "cell_type": "code",
      "source": [
        "# sort (vs sorted)\n",
        "'''The main difference between sort and sorted in Python is that sort function returns nothing and makes \n",
        "changes to the original sequence, while the sorted () function creates a new sequence type containing a sorted version of \n",
        "the given sequence.'''\n",
        "Q = [2,7,9,4,6,7,1,1,7,1,7]\n",
        "Q.sort()\n",
        "print(Q)\n",
        "sorted(Q)\n",
        "print(Q)\n"
      ],
      "metadata": {
        "colab": {
          "base_uri": "https://localhost:8080/"
        },
        "id": "QOjnE6g-8GdG",
        "outputId": "ed74caf8-8923-421f-ee97-8729aeb26d08"
      },
      "execution_count": 30,
      "outputs": [
        {
          "output_type": "stream",
          "name": "stdout",
          "text": [
            "[1, 1, 1, 2, 4, 6, 7, 7, 7, 7, 9]\n",
            "[1, 1, 1, 2, 4, 6, 7, 7, 7, 7, 9]\n"
          ]
        }
      ]
    }
  ]
}