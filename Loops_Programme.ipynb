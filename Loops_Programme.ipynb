{
  "nbformat": 4,
  "nbformat_minor": 0,
  "metadata": {
    "colab": {
      "provenance": []
    },
    "kernelspec": {
      "name": "python3",
      "display_name": "Python 3"
    },
    "language_info": {
      "name": "python"
    }
  },
  "cells": [
    {
      "cell_type": "markdown",
      "source": [
        "### Sequence sum\n",
        "\n",
        "1/1! + 2/2! + 3/3! + ..."
      ],
      "metadata": {
        "id": "jmeilrsx_Dz_"
      }
    },
    {
      "cell_type": "code",
      "source": [
        "n = int(input('Enter number'))\n",
        "result =0\n",
        "fact =1\n",
        "for i in range(1,n+1):\n",
        "  fact =fact*i\n",
        "  result = result + i/fact\n",
        "print(result)  "
      ],
      "metadata": {
        "id": "UU38MOpA_E3_"
      },
      "execution_count": null,
      "outputs": []
    },
    {
      "cell_type": "markdown",
      "source": [
        "# Nested Loops"
      ],
      "metadata": {
        "id": "F_ka2Jji_G3d"
      }
    },
    {
      "cell_type": "code",
      "source": [
        "# Examples -> unique pairs\n",
        "\n",
        "for i in range(1,5):\n",
        "  for j in range(1,5):\n",
        "    print(i,j)"
      ],
      "metadata": {
        "id": "3nctuHAQ_RvA"
      },
      "execution_count": null,
      "outputs": []
    },
    {
      "cell_type": "markdown",
      "source": [
        "### Pattern 1\n",
        "\n",
        "\n",
        "*** <br>\n",
        "**** <br>\n",
        "***<br>\n"
      ],
      "metadata": {
        "id": "iUnoz6z1_aaI"
      }
    },
    {
      "cell_type": "code",
      "source": [
        "# code here\n",
        "rows = int(input('Enter rows'))\n",
        "\n",
        "for i in range(1,rows+1):\n",
        "  for j in range(1,i+1):\n",
        "    print('*',end =\" \")\n",
        "  print()\n"
      ],
      "metadata": {
        "colab": {
          "base_uri": "https://localhost:8080/"
        },
        "id": "exQMnIoC_Zv2",
        "outputId": "8ad78e3c-af0a-4732-ea75-a55943cb3f94"
      },
      "execution_count": 3,
      "outputs": [
        {
          "output_type": "stream",
          "name": "stdout",
          "text": [
            "Enter rows10\n",
            "* \n",
            "* * \n",
            "* * * \n",
            "* * * * \n",
            "* * * * * \n",
            "* * * * * * \n",
            "* * * * * * * \n",
            "* * * * * * * * \n",
            "* * * * * * * * * \n",
            "* * * * * * * * * * \n"
          ]
        }
      ]
    },
    {
      "cell_type": "markdown",
      "source": [
        "### Pattern 2\n",
        "\n",
        "1<br>\n",
        "121<br>\n",
        "12321<br>\n",
        "1234321<br>"
      ],
      "metadata": {
        "id": "OxXDih5R_0uB"
      }
    },
    {
      "cell_type": "code",
      "source": [
        "# Code here\n",
        "\n",
        "rows =int(input('Enter number of rows'))\n",
        "\n",
        "for i in range(1,rows+1):\n",
        "  for j in range(1,i+1):\n",
        "    print(j,end =\" \")\n",
        "  for k in range(i-1,0,-1):\n",
        "    print(k,end=\" \")\n",
        "  print()     "
      ],
      "metadata": {
        "colab": {
          "base_uri": "https://localhost:8080/"
        },
        "id": "x8rGo4KM_Y-j",
        "outputId": "eb7fb14d-a60a-4882-b8b8-539bf1f876d3"
      },
      "execution_count": 4,
      "outputs": [
        {
          "output_type": "stream",
          "name": "stdout",
          "text": [
            "Enter number of rows5\n",
            "1 \n",
            "1 2 1 \n",
            "1 2 3 2 1 \n",
            "1 2 3 4 3 2 1 \n",
            "1 2 3 4 5 4 3 2 1 \n"
          ]
        }
      ]
    }
  ]
}