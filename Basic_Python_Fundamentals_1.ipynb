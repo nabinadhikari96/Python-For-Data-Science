{
  "nbformat": 4,
  "nbformat_minor": 0,
  "metadata": {
    "colab": {
      "provenance": []
    },
    "kernelspec": {
      "name": "python3",
      "display_name": "Python 3"
    },
    "language_info": {
      "name": "python"
    }
  },
  "cells": [
    {
      "cell_type": "code",
      "source": [
        "'''In this video you are gonna Learn,\n",
        "1. Function\n",
        "2. print function\n",
        "3. Data Types \n",
        "4. Built in function\n",
        "\n",
        "'''"
      ],
      "metadata": {
        "id": "oR-TaebWj1YF"
      },
      "execution_count": null,
      "outputs": []
    },
    {
      "cell_type": "code",
      "source": [
        "'''A function is a block of code which only runs when it is called. You can pass data, known as parameters, into a function.\n",
        " A function can return data as a result.'''\n",
        "def add(a,b,c):\n",
        "  print(a+b+c)\n",
        "add(1,3,1)  \n",
        "\n"
      ],
      "metadata": {
        "colab": {
          "base_uri": "https://localhost:8080/"
        },
        "id": "zuAU2TwjEd1Z",
        "outputId": "ebeeac4d-c70a-4329-bb45-0b4c1ffc008e"
      },
      "execution_count": null,
      "outputs": [
        {
          "output_type": "stream",
          "name": "stdout",
          "text": [
            "5\n"
          ]
        }
      ]
    },
    {
      "cell_type": "markdown",
      "source": [
        "# 1. Python Output"
      ],
      "metadata": {
        "id": "YsLB36tWHEwz"
      }
    },
    {
      "cell_type": "code",
      "source": [
        "# Python is a case sensitive language\n",
        "q =1\n",
        "print(Q)\n",
        "\n"
      ],
      "metadata": {
        "id": "5l246_zLHIEV",
        "colab": {
          "base_uri": "https://localhost:8080/",
          "height": 217
        },
        "outputId": "1b032956-cbea-4d2c-f5b9-69a1cfaa5b2a"
      },
      "execution_count": null,
      "outputs": [
        {
          "output_type": "error",
          "ename": "NameError",
          "evalue": "ignored",
          "traceback": [
            "\u001b[0;31m---------------------------------------------------------------------------\u001b[0m",
            "\u001b[0;31mNameError\u001b[0m                                 Traceback (most recent call last)",
            "\u001b[0;32m<ipython-input-27-2a966e00f5e3>\u001b[0m in \u001b[0;36m<module>\u001b[0;34m\u001b[0m\n\u001b[1;32m      1\u001b[0m \u001b[0;31m# Python is a case sensitive language\u001b[0m\u001b[0;34m\u001b[0m\u001b[0;34m\u001b[0m\u001b[0;34m\u001b[0m\u001b[0m\n\u001b[1;32m      2\u001b[0m \u001b[0mq\u001b[0m \u001b[0;34m=\u001b[0m\u001b[0;36m1\u001b[0m\u001b[0;34m\u001b[0m\u001b[0;34m\u001b[0m\u001b[0m\n\u001b[0;32m----> 3\u001b[0;31m \u001b[0mprint\u001b[0m\u001b[0;34m(\u001b[0m\u001b[0mQ\u001b[0m\u001b[0;34m)\u001b[0m\u001b[0;34m\u001b[0m\u001b[0;34m\u001b[0m\u001b[0m\n\u001b[0m\u001b[1;32m      4\u001b[0m \u001b[0;34m\u001b[0m\u001b[0m\n",
            "\u001b[0;31mNameError\u001b[0m: name 'Q' is not defined"
          ]
        }
      ]
    },
    {
      "cell_type": "code",
      "source": [],
      "metadata": {
        "id": "O7K4y26EMFHJ"
      },
      "execution_count": null,
      "outputs": []
    },
    {
      "cell_type": "code",
      "source": [
        "#format print output\n",
        "print('hi i am nabin')"
      ],
      "metadata": {
        "id": "OErEI7l8mCiC",
        "colab": {
          "base_uri": "https://localhost:8080/"
        },
        "outputId": "3cdae951-fbc9-4814-e09b-08d676c4757b"
      },
      "execution_count": null,
      "outputs": [
        {
          "output_type": "stream",
          "name": "stdout",
          "text": [
            "hi i am nabin\n"
          ]
        }
      ]
    },
    {
      "cell_type": "code",
      "source": [
        "#showing error output\n",
        "print(hi i am nabin)"
      ],
      "metadata": {
        "id": "bGdSXNW0mHci",
        "colab": {
          "base_uri": "https://localhost:8080/",
          "height": 130
        },
        "outputId": "a1c121dc-ac7d-4564-d858-52d550e9ad3f"
      },
      "execution_count": null,
      "outputs": [
        {
          "output_type": "error",
          "ename": "SyntaxError",
          "evalue": "ignored",
          "traceback": [
            "\u001b[0;36m  File \u001b[0;32m\"<ipython-input-29-57cd0ce8bd55>\"\u001b[0;36m, line \u001b[0;32m2\u001b[0m\n\u001b[0;31m    print(hi i am nabin)\u001b[0m\n\u001b[0m             ^\u001b[0m\n\u001b[0;31mSyntaxError\u001b[0m\u001b[0;31m:\u001b[0m invalid syntax\n"
          ]
        }
      ]
    },
    {
      "cell_type": "code",
      "source": [
        "#print integer\n",
        "print(2)\n"
      ],
      "metadata": {
        "id": "aFr6XX8bmTRe",
        "colab": {
          "base_uri": "https://localhost:8080/"
        },
        "outputId": "2e7b087c-613c-4853-9a14-7ed5bab36592"
      },
      "execution_count": null,
      "outputs": [
        {
          "output_type": "stream",
          "name": "stdout",
          "text": [
            "2\n"
          ]
        }
      ]
    },
    {
      "cell_type": "code",
      "source": [
        "#print float\n",
        "print(2.778)"
      ],
      "metadata": {
        "id": "fqM5TR1kmW9y",
        "colab": {
          "base_uri": "https://localhost:8080/"
        },
        "outputId": "03150b97-d668-4a17-a5b0-178ecc40be18"
      },
      "execution_count": null,
      "outputs": [
        {
          "output_type": "stream",
          "name": "stdout",
          "text": [
            "2.778\n"
          ]
        }
      ]
    },
    {
      "cell_type": "code",
      "source": [
        "#print boolean\n",
        "print(True)"
      ],
      "metadata": {
        "id": "w6S9LAPnmZLN",
        "colab": {
          "base_uri": "https://localhost:8080/"
        },
        "outputId": "59fb3485-6f88-4f17-e0e2-598acb735f47"
      },
      "execution_count": null,
      "outputs": [
        {
          "output_type": "stream",
          "name": "stdout",
          "text": [
            "True\n"
          ]
        }
      ]
    },
    {
      "cell_type": "code",
      "source": [
        "#stylish print (print more than one)\n",
        "print('nabin','data','science',1)"
      ],
      "metadata": {
        "id": "y-NL43EFmi-n",
        "colab": {
          "base_uri": "https://localhost:8080/"
        },
        "outputId": "d22b7e83-12f2-49d3-fb18-339a4ba5d703"
      },
      "execution_count": null,
      "outputs": [
        {
          "output_type": "stream",
          "name": "stdout",
          "text": [
            "nabin data science 1\n"
          ]
        }
      ]
    },
    {
      "cell_type": "code",
      "source": [
        "#print more than one with parameter(sep =)\n",
        "print('nabin','data',sep='|')"
      ],
      "metadata": {
        "id": "APl7m_hom225",
        "colab": {
          "base_uri": "https://localhost:8080/"
        },
        "outputId": "aed0b918-f567-46ed-f880-5cf5de1944ad"
      },
      "execution_count": null,
      "outputs": [
        {
          "output_type": "stream",
          "name": "stdout",
          "text": [
            "nabin|data\n"
          ]
        }
      ]
    },
    {
      "cell_type": "code",
      "source": [
        "#print seperate data and science\n",
        "print('data')\n",
        "print('science')"
      ],
      "metadata": {
        "id": "7mGPkXASnXxx",
        "colab": {
          "base_uri": "https://localhost:8080/"
        },
        "outputId": "0363d52c-308c-4fa7-e79c-45a910d0f853"
      },
      "execution_count": null,
      "outputs": [
        {
          "output_type": "stream",
          "name": "stdout",
          "text": [
            "data\n",
            "science\n"
          ]
        }
      ]
    },
    {
      "cell_type": "code",
      "source": [
        "#print seprate data and science with end = \n",
        "print('data',end='-')\n",
        "print('science')"
      ],
      "metadata": {
        "id": "0m4dTp6gngVj",
        "colab": {
          "base_uri": "https://localhost:8080/"
        },
        "outputId": "419b8082-acf4-42c1-8832-a41a8cca9701"
      },
      "execution_count": null,
      "outputs": [
        {
          "output_type": "stream",
          "name": "stdout",
          "text": [
            "data-science\n"
          ]
        }
      ]
    },
    {
      "cell_type": "markdown",
      "source": [
        "# 2. Data Types"
      ],
      "metadata": {
        "id": "BzuI6KObHLBH"
      }
    },
    {
      "cell_type": "code",
      "source": [
        "# Integer\n",
        "print(2)"
      ],
      "metadata": {
        "id": "0AD2yELLHOD5",
        "colab": {
          "base_uri": "https://localhost:8080/"
        },
        "outputId": "c66eddb5-46c3-4b32-efc9-7a62fa52e438"
      },
      "execution_count": null,
      "outputs": [
        {
          "output_type": "stream",
          "name": "stdout",
          "text": [
            "2\n"
          ]
        }
      ]
    },
    {
      "cell_type": "code",
      "source": [
        "# Decimal/Float\n",
        "print(3.33)"
      ],
      "metadata": {
        "id": "6zf6tCPNoZqc",
        "colab": {
          "base_uri": "https://localhost:8080/"
        },
        "outputId": "ad663cb1-08c6-43ed-accb-20a738d067f6"
      },
      "execution_count": null,
      "outputs": [
        {
          "output_type": "stream",
          "name": "stdout",
          "text": [
            "3.33\n"
          ]
        }
      ]
    },
    {
      "cell_type": "code",
      "source": [
        "# Boolean\n",
        "print(True)"
      ],
      "metadata": {
        "id": "VN8v8HEQoZ3X",
        "colab": {
          "base_uri": "https://localhost:8080/"
        },
        "outputId": "bff118c2-f572-42e6-fb6c-d8a7c8ee4921"
      },
      "execution_count": null,
      "outputs": [
        {
          "output_type": "stream",
          "name": "stdout",
          "text": [
            "True\n"
          ]
        }
      ]
    },
    {
      "cell_type": "code",
      "source": [
        "# Text/String\n",
        "#Strings in python are surrounded by either single quotation marks, or double quotation marks.\n",
        "print('jhkjhkjh')"
      ],
      "metadata": {
        "id": "NEwaubEvpJen",
        "colab": {
          "base_uri": "https://localhost:8080/"
        },
        "outputId": "60521432-af9d-411d-b342-2766d1d02b11"
      },
      "execution_count": null,
      "outputs": [
        {
          "output_type": "stream",
          "name": "stdout",
          "text": [
            "jhkjhkjh\n"
          ]
        }
      ]
    },
    {
      "cell_type": "code",
      "source": [
        "# complex\n",
        "#real + img\n",
        "x = 2+6J\n",
        "print(x.real)"
      ],
      "metadata": {
        "id": "L60DWHUVpQzj",
        "colab": {
          "base_uri": "https://localhost:8080/"
        },
        "outputId": "59a240ce-d01f-46a9-ff45-f59472abe90a"
      },
      "execution_count": null,
      "outputs": [
        {
          "output_type": "stream",
          "name": "stdout",
          "text": [
            "2.0\n"
          ]
        }
      ]
    },
    {
      "cell_type": "code",
      "source": [
        "# List-> C-> Array\n",
        "#Lists are used to store multiple items in a single variable within sqaure bracket.\n",
        "fruits = ['apple','mango','banana']\n",
        "print(fruits)\n",
        "fruits[0]='grapes'\n",
        "print(fruits)"
      ],
      "metadata": {
        "id": "u0qI-mUZpWRh",
        "colab": {
          "base_uri": "https://localhost:8080/"
        },
        "outputId": "f5ac2cec-56ef-494f-9733-c8fd84f63ea6"
      },
      "execution_count": null,
      "outputs": [
        {
          "output_type": "stream",
          "name": "stdout",
          "text": [
            "['apple', 'mango', 'banana']\n",
            "['grapes', 'mango', 'banana']\n"
          ]
        }
      ]
    },
    {
      "cell_type": "code",
      "source": [
        "# Tuple\n",
        "#A tuple is a collection which is ordered and unchangeable. Tuples are written with round brackets.\n",
        "vechicle = ('car','bus','cycle')\n",
        "print(vechicle[0])\n",
        "print(vechicle)\n",
        "vechicle[0]='hghbmn'\n",
        "print(vechicle)"
      ],
      "metadata": {
        "id": "Futbt8RJpefw",
        "colab": {
          "base_uri": "https://localhost:8080/",
          "height": 252
        },
        "outputId": "cc4b050f-a1be-40b5-fe47-7d7a24d9db50"
      },
      "execution_count": null,
      "outputs": [
        {
          "output_type": "stream",
          "name": "stdout",
          "text": [
            "car\n",
            "('car', 'bus', 'cycle')\n"
          ]
        },
        {
          "output_type": "error",
          "ename": "TypeError",
          "evalue": "ignored",
          "traceback": [
            "\u001b[0;31m---------------------------------------------------------------------------\u001b[0m",
            "\u001b[0;31mTypeError\u001b[0m                                 Traceback (most recent call last)",
            "\u001b[0;32m<ipython-input-59-62807b953dfe>\u001b[0m in \u001b[0;36m<module>\u001b[0;34m\u001b[0m\n\u001b[1;32m      4\u001b[0m \u001b[0mprint\u001b[0m\u001b[0;34m(\u001b[0m\u001b[0mvechicle\u001b[0m\u001b[0;34m[\u001b[0m\u001b[0;36m0\u001b[0m\u001b[0;34m]\u001b[0m\u001b[0;34m)\u001b[0m\u001b[0;34m\u001b[0m\u001b[0;34m\u001b[0m\u001b[0m\n\u001b[1;32m      5\u001b[0m \u001b[0mprint\u001b[0m\u001b[0;34m(\u001b[0m\u001b[0mvechicle\u001b[0m\u001b[0;34m)\u001b[0m\u001b[0;34m\u001b[0m\u001b[0;34m\u001b[0m\u001b[0m\n\u001b[0;32m----> 6\u001b[0;31m \u001b[0mvechicle\u001b[0m\u001b[0;34m[\u001b[0m\u001b[0;36m0\u001b[0m\u001b[0;34m]\u001b[0m\u001b[0;34m=\u001b[0m\u001b[0;34m'hghbmn'\u001b[0m\u001b[0;34m\u001b[0m\u001b[0;34m\u001b[0m\u001b[0m\n\u001b[0m\u001b[1;32m      7\u001b[0m \u001b[0mprint\u001b[0m\u001b[0;34m(\u001b[0m\u001b[0mvechicle\u001b[0m\u001b[0;34m)\u001b[0m\u001b[0;34m\u001b[0m\u001b[0;34m\u001b[0m\u001b[0m\n",
            "\u001b[0;31mTypeError\u001b[0m: 'tuple' object does not support item assignment"
          ]
        }
      ]
    },
    {
      "cell_type": "code",
      "source": [
        "# Sets\n",
        "#A set is a collection which is unordered, unchangeable*, and unindexed.\n",
        "f = {2,3,4,5,1}\n",
        "print(f)\n",
        "f[0]=0\n",
        "print(f)\n"
      ],
      "metadata": {
        "id": "WW-etE4BplMR",
        "colab": {
          "base_uri": "https://localhost:8080/",
          "height": 235
        },
        "outputId": "334f8c5b-367a-4f5e-cff3-979aacc87fd9"
      },
      "execution_count": null,
      "outputs": [
        {
          "output_type": "stream",
          "name": "stdout",
          "text": [
            "{1, 2, 3, 4, 5}\n"
          ]
        },
        {
          "output_type": "error",
          "ename": "TypeError",
          "evalue": "ignored",
          "traceback": [
            "\u001b[0;31m---------------------------------------------------------------------------\u001b[0m",
            "\u001b[0;31mTypeError\u001b[0m                                 Traceback (most recent call last)",
            "\u001b[0;32m<ipython-input-62-dc75c691817b>\u001b[0m in \u001b[0;36m<module>\u001b[0;34m\u001b[0m\n\u001b[1;32m      3\u001b[0m \u001b[0mf\u001b[0m \u001b[0;34m=\u001b[0m \u001b[0;34m{\u001b[0m\u001b[0;36m2\u001b[0m\u001b[0;34m,\u001b[0m\u001b[0;36m3\u001b[0m\u001b[0;34m,\u001b[0m\u001b[0;36m4\u001b[0m\u001b[0;34m,\u001b[0m\u001b[0;36m5\u001b[0m\u001b[0;34m,\u001b[0m\u001b[0;36m1\u001b[0m\u001b[0;34m}\u001b[0m\u001b[0;34m\u001b[0m\u001b[0;34m\u001b[0m\u001b[0m\n\u001b[1;32m      4\u001b[0m \u001b[0mprint\u001b[0m\u001b[0;34m(\u001b[0m\u001b[0mf\u001b[0m\u001b[0;34m)\u001b[0m\u001b[0;34m\u001b[0m\u001b[0;34m\u001b[0m\u001b[0m\n\u001b[0;32m----> 5\u001b[0;31m \u001b[0mf\u001b[0m\u001b[0;34m[\u001b[0m\u001b[0;36m0\u001b[0m\u001b[0;34m]\u001b[0m\u001b[0;34m=\u001b[0m\u001b[0;36m0\u001b[0m\u001b[0;34m\u001b[0m\u001b[0;34m\u001b[0m\u001b[0m\n\u001b[0m\u001b[1;32m      6\u001b[0m \u001b[0mprint\u001b[0m\u001b[0;34m(\u001b[0m\u001b[0mf\u001b[0m\u001b[0;34m)\u001b[0m\u001b[0;34m\u001b[0m\u001b[0;34m\u001b[0m\u001b[0m\n",
            "\u001b[0;31mTypeError\u001b[0m: 'set' object does not support item assignment"
          ]
        }
      ]
    },
    {
      "cell_type": "code",
      "source": [
        "# Dictionary\n",
        "'''Dictionaries are used to store data values in key:value pairs.\n",
        "\n",
        "A dictionary is a collection which is ordered*, changeable and do not allow duplicates.'''\n",
        "person = {'name':'nabin','gender':'male'}\n",
        "print(person)\n",
        "print(person['name'])\n",
        "person['name']='john'\n",
        "print(person)\n"
      ],
      "metadata": {
        "id": "ssWbznaaprT6",
        "colab": {
          "base_uri": "https://localhost:8080/"
        },
        "outputId": "874cb9e6-eb1c-4024-e037-760a3eb12188"
      },
      "execution_count": null,
      "outputs": [
        {
          "output_type": "stream",
          "name": "stdout",
          "text": [
            "{'name': 'nabin', 'gender': 'male'}\n",
            "nabin\n",
            "{'name': 'john', 'gender': 'male'}\n"
          ]
        }
      ]
    },
    {
      "cell_type": "code",
      "source": [
        "# type\n",
        "#It is used to know about types of data wheteher data is int,float,complex,set..etc\n",
        "type({'name': 'nabin', 'gender': 'male'})"
      ],
      "metadata": {
        "id": "NAJzbOAsq3bG",
        "colab": {
          "base_uri": "https://localhost:8080/"
        },
        "outputId": "e9039fec-fe70-4e70-d4ed-3e3a6ad89620"
      },
      "execution_count": null,
      "outputs": [
        {
          "output_type": "execute_result",
          "data": {
            "text/plain": [
              "dict"
            ]
          },
          "metadata": {},
          "execution_count": 75
        }
      ]
    },
    {
      "cell_type": "code",
      "source": [
        "#inbuilt function\n",
        "#Python has a set of built-in functions\n",
        "'''The Python built-in functions are defined as the functions whose functionality is pre-defined in Python.\n",
        " The python interpreter has several functions that are always present for use. These functions are known \n",
        " as Built-in Functions.\n",
        "'''\n",
        "'''Tuple is one of 4 built-in data types in Python used to store collections of data,\n",
        " the other 3 are List, Set, and Dictionary, all with different qualities and usage.'''"
      ],
      "metadata": {
        "id": "vl6RlxFggkt_"
      },
      "execution_count": null,
      "outputs": []
    },
    {
      "cell_type": "code",
      "source": [
        "print('abccdef')"
      ],
      "metadata": {
        "colab": {
          "base_uri": "https://localhost:8080/"
        },
        "id": "YmByhnCZKPWA",
        "outputId": "0cea921c-13ae-4e7f-e859-0ee98e5beee8"
      },
      "execution_count": null,
      "outputs": [
        {
          "output_type": "stream",
          "name": "stdout",
          "text": [
            "abccdef\n"
          ]
        }
      ]
    }
  ]
}